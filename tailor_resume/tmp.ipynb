{
 "cells": [
  {
   "cell_type": "code",
   "execution_count": 11,
   "metadata": {},
   "outputs": [],
   "source": [
    "import openai\n",
    "\n",
    "with open(\"/Users/stevensmith/Projects/Random_Projects/resume_builder/resume.md\", \"r\") as file:\n",
    "    content = file.read()\n",
    "\n",
    "md_resume=content\n",
    "\n",
    "\n",
    "job_desciption=\"\"\"POSITION SUMMARY:\n",
    "\n",
    "The Lead Bioinformatician participates in the development and validation of cutting-edge technologies for analysis of genetic data. Designs and implements algorithms of varying complexity in the context of research, development, product validations, clinical trials, regulatory submissions, and scientific publications.\n",
    "\n",
    "PRIMARY RESPONSIBILITIES:\n",
    "\n",
    "Provide technical leadership in the design and execution of complex experiments and all phases of product development.\n",
    "Design and review statistical methodology in statistical analysis plans and protocols.\n",
    "Develop algorithms and models for complex data analysis.\n",
    "Produce high quality written documentation including study protocols, statistical analysis plans and reports, and regulatory submissions\n",
    "Act as an internal technical consultant to other functional groups or their members by providing expert advice on bioinformatics methodology\n",
    "Performs other duties as assigned\n",
    "QUALIFICATIONS:\n",
    "\n",
    "Master’s degree in bioinformatics with 6 years post-graduate experience, or PhD with 3 years of post-graduate experience (preferred)\n",
    "At least 4 years practical experience with data analysis software such as Python or R\n",
    "KNOWLEDGE, SKILLS, AND ABILITIES:\n",
    "\n",
    "Expert knowledge of bioinformatics tools in mapping, variant calling, CNV analysis and statistical methods\n",
    "Familiarity with typical approaches, best practices, and regulatory standards in CLIA product development design\n",
    "Ability to produce high quality written documentation for varying audiences\n",
    "Ability to work independently while managing multiple objectives and timelines\n",
    "Desire to work in a fast-paced environment with potential for high impact in a small team\"\"\"\n",
    "# prompt (assuming md_resume and job_desciption have been defined)\n",
    "prompt = f\"\"\"\n",
    "I have a resume formatted in Markdown and a job description. \\\n",
    "Please adapt my resume to better align with the job requirements while \\\n",
    "maintaining a professional tone. Tailor my skills, experiences, and \\\n",
    "achievements to highlight the most relevant points for the position. \\\n",
    "Ensure that my resume still reflects my unique qualifications and strengths \\\n",
    "but emphasizes the skills and experiences that match the job description.\n",
    "\n",
    "### Here is my resume in Markdown:\n",
    "{md_resume}\n",
    "\n",
    "### Here is the job description:\n",
    "{job_desciption}\n",
    "\n",
    "Please modify the resume to:\n",
    "- Use keywords and phrases from the job description.\n",
    "- Adjust the bullet points under each role to emphasize relevant skills and achievements.\n",
    "- Make sure my experiences are presented in a way that matches the required qualifications.\n",
    "- Maintain clarity, conciseness, and professionalism throughout.\n",
    "\n",
    "Return the updated resume in Markdown format.\n",
    "\n",
    "\"\"\"\n",
    "    \n",
    "\n",
    "# make api call\n",
    "response = openai.chat.completions.create(\n",
    "    model=\"gpt-4o-mini\",\n",
    "    messages=[\n",
    "        {\"role\": \"system\", \"content\": \"You are a helpful assistant.\"},\n",
    "        {\"role\": \"user\", \"content\": prompt}\n",
    "    ], \n",
    "    temperature = 0.25\n",
    ")\n",
    "    \n",
    "# extract response\n",
    "resume = response.choices[0].message.content\n"
   ]
  },
  {
   "cell_type": "code",
   "execution_count": 17,
   "metadata": {},
   "outputs": [],
   "source": [
    "html_content = markdown.markdown(md_resume)\n",
    "\n",
    "with open(\"original_resume.html\", \"w\") as f:\n",
    "    f.write(html_content)"
   ]
  },
  {
   "cell_type": "code",
   "execution_count": 13,
   "metadata": {},
   "outputs": [],
   "source": [
    "import markdown\n",
    "\n",
    "# with open(\"input.md\", \"r\") as f:\n",
    "#     md_content = f.read()\n",
    "\n",
    "html_content = markdown.markdown(resume)\n",
    "\n",
    "with open(\"output.html\", \"w\") as f:\n",
    "    f.write(html_content)\n"
   ]
  },
  {
   "cell_type": "code",
   "execution_count": 16,
   "metadata": {},
   "outputs": [
    {
     "ename": "OSError",
     "evalue": "No wkhtmltopdf executable found: \"b''\"\nIf this file exists please check that this process can read it or you can pass path to it manually in method call, check README. Otherwise please install wkhtmltopdf - https://github.com/JazzCore/python-pdfkit/wiki/Installing-wkhtmltopdf",
     "output_type": "error",
     "traceback": [
      "\u001b[0;31m---------------------------------------------------------------------------\u001b[0m",
      "\u001b[0;31mFileNotFoundError\u001b[0m                         Traceback (most recent call last)",
      "File \u001b[0;32m~/Projects/python_virtual_envs/githubmatcher/lib/python3.9/site-packages/pdfkit/configuration.py:35\u001b[0m, in \u001b[0;36mConfiguration.__init__\u001b[0;34m(self, wkhtmltopdf, meta_tag_prefix, environ)\u001b[0m\n\u001b[1;32m     33\u001b[0m     \u001b[38;5;28mself\u001b[39m\u001b[38;5;241m.\u001b[39mwkhtmltopdf \u001b[38;5;241m=\u001b[39m lines[\u001b[38;5;241m0\u001b[39m]\u001b[38;5;241m.\u001b[39mstrip()\n\u001b[0;32m---> 35\u001b[0m \u001b[38;5;28;01mwith\u001b[39;00m \u001b[38;5;28;43mopen\u001b[39;49m\u001b[43m(\u001b[49m\u001b[38;5;28;43mself\u001b[39;49m\u001b[38;5;241;43m.\u001b[39;49m\u001b[43mwkhtmltopdf\u001b[49m\u001b[43m)\u001b[49m \u001b[38;5;28;01mas\u001b[39;00m f:\n\u001b[1;32m     36\u001b[0m     \u001b[38;5;28;01mpass\u001b[39;00m\n",
      "\u001b[0;31mFileNotFoundError\u001b[0m: [Errno 2] No such file or directory: b''",
      "\nDuring handling of the above exception, another exception occurred:\n",
      "\u001b[0;31mOSError\u001b[0m                                   Traceback (most recent call last)",
      "Cell \u001b[0;32mIn[16], line 4\u001b[0m\n\u001b[1;32m      1\u001b[0m \u001b[38;5;28;01mimport\u001b[39;00m \u001b[38;5;21;01mpdfkit\u001b[39;00m\n\u001b[1;32m      3\u001b[0m \u001b[38;5;66;03m# Convert an HTML file to PDF\u001b[39;00m\n\u001b[0;32m----> 4\u001b[0m \u001b[43mpdfkit\u001b[49m\u001b[38;5;241;43m.\u001b[39;49m\u001b[43mfrom_file\u001b[49m\u001b[43m(\u001b[49m\u001b[38;5;124;43m\"\u001b[39;49m\u001b[38;5;124;43moutput.html\u001b[39;49m\u001b[38;5;124;43m\"\u001b[39;49m\u001b[43m,\u001b[49m\u001b[43m \u001b[49m\u001b[38;5;124;43m\"\u001b[39;49m\u001b[38;5;124;43moutput.pdf\u001b[39;49m\u001b[38;5;124;43m\"\u001b[39;49m\u001b[43m)\u001b[49m\n",
      "File \u001b[0;32m~/Projects/python_virtual_envs/githubmatcher/lib/python3.9/site-packages/pdfkit/api.py:48\u001b[0m, in \u001b[0;36mfrom_file\u001b[0;34m(input, output_path, options, toc, cover, css, configuration, cover_first, verbose)\u001b[0m\n\u001b[1;32m     30\u001b[0m \u001b[38;5;28;01mdef\u001b[39;00m \u001b[38;5;21mfrom_file\u001b[39m(\u001b[38;5;28minput\u001b[39m, output_path\u001b[38;5;241m=\u001b[39m\u001b[38;5;28;01mNone\u001b[39;00m, options\u001b[38;5;241m=\u001b[39m\u001b[38;5;28;01mNone\u001b[39;00m, toc\u001b[38;5;241m=\u001b[39m\u001b[38;5;28;01mNone\u001b[39;00m, cover\u001b[38;5;241m=\u001b[39m\u001b[38;5;28;01mNone\u001b[39;00m, css\u001b[38;5;241m=\u001b[39m\u001b[38;5;28;01mNone\u001b[39;00m,\n\u001b[1;32m     31\u001b[0m               configuration\u001b[38;5;241m=\u001b[39m\u001b[38;5;28;01mNone\u001b[39;00m, cover_first\u001b[38;5;241m=\u001b[39m\u001b[38;5;28;01mFalse\u001b[39;00m, verbose\u001b[38;5;241m=\u001b[39m\u001b[38;5;28;01mFalse\u001b[39;00m):\n\u001b[1;32m     32\u001b[0m \u001b[38;5;250m    \u001b[39m\u001b[38;5;124;03m\"\"\"\u001b[39;00m\n\u001b[1;32m     33\u001b[0m \u001b[38;5;124;03m    Convert HTML file or files to PDF document\u001b[39;00m\n\u001b[1;32m     34\u001b[0m \n\u001b[0;32m   (...)\u001b[0m\n\u001b[1;32m     45\u001b[0m \u001b[38;5;124;03m    Returns: True on success\u001b[39;00m\n\u001b[1;32m     46\u001b[0m \u001b[38;5;124;03m    \"\"\"\u001b[39;00m\n\u001b[0;32m---> 48\u001b[0m     r \u001b[38;5;241m=\u001b[39m \u001b[43mPDFKit\u001b[49m\u001b[43m(\u001b[49m\u001b[38;5;28;43minput\u001b[39;49m\u001b[43m,\u001b[49m\u001b[43m \u001b[49m\u001b[38;5;124;43m'\u001b[39;49m\u001b[38;5;124;43mfile\u001b[39;49m\u001b[38;5;124;43m'\u001b[39;49m\u001b[43m,\u001b[49m\u001b[43m \u001b[49m\u001b[43moptions\u001b[49m\u001b[38;5;241;43m=\u001b[39;49m\u001b[43moptions\u001b[49m\u001b[43m,\u001b[49m\u001b[43m \u001b[49m\u001b[43mtoc\u001b[49m\u001b[38;5;241;43m=\u001b[39;49m\u001b[43mtoc\u001b[49m\u001b[43m,\u001b[49m\u001b[43m \u001b[49m\u001b[43mcover\u001b[49m\u001b[38;5;241;43m=\u001b[39;49m\u001b[43mcover\u001b[49m\u001b[43m,\u001b[49m\u001b[43m \u001b[49m\u001b[43mcss\u001b[49m\u001b[38;5;241;43m=\u001b[39;49m\u001b[43mcss\u001b[49m\u001b[43m,\u001b[49m\n\u001b[1;32m     49\u001b[0m \u001b[43m               \u001b[49m\u001b[43mconfiguration\u001b[49m\u001b[38;5;241;43m=\u001b[39;49m\u001b[43mconfiguration\u001b[49m\u001b[43m,\u001b[49m\u001b[43m \u001b[49m\u001b[43mcover_first\u001b[49m\u001b[38;5;241;43m=\u001b[39;49m\u001b[43mcover_first\u001b[49m\u001b[43m,\u001b[49m\u001b[43m \u001b[49m\u001b[43mverbose\u001b[49m\u001b[38;5;241;43m=\u001b[39;49m\u001b[43mverbose\u001b[49m\u001b[43m)\u001b[49m\n\u001b[1;32m     51\u001b[0m     \u001b[38;5;28;01mreturn\u001b[39;00m r\u001b[38;5;241m.\u001b[39mto_pdf(output_path)\n",
      "File \u001b[0;32m~/Projects/python_virtual_envs/githubmatcher/lib/python3.9/site-packages/pdfkit/pdfkit.py:45\u001b[0m, in \u001b[0;36mPDFKit.__init__\u001b[0;34m(self, url_or_file, type_, options, toc, cover, css, configuration, cover_first, verbose)\u001b[0m\n\u001b[1;32m     41\u001b[0m \u001b[38;5;28;01mdef\u001b[39;00m \u001b[38;5;21m__init__\u001b[39m(\u001b[38;5;28mself\u001b[39m, url_or_file, type_, options\u001b[38;5;241m=\u001b[39m\u001b[38;5;28;01mNone\u001b[39;00m, toc\u001b[38;5;241m=\u001b[39m\u001b[38;5;28;01mNone\u001b[39;00m, cover\u001b[38;5;241m=\u001b[39m\u001b[38;5;28;01mNone\u001b[39;00m,\n\u001b[1;32m     42\u001b[0m              css\u001b[38;5;241m=\u001b[39m\u001b[38;5;28;01mNone\u001b[39;00m, configuration\u001b[38;5;241m=\u001b[39m\u001b[38;5;28;01mNone\u001b[39;00m, cover_first\u001b[38;5;241m=\u001b[39m\u001b[38;5;28;01mFalse\u001b[39;00m, verbose\u001b[38;5;241m=\u001b[39m\u001b[38;5;28;01mFalse\u001b[39;00m):\n\u001b[1;32m     44\u001b[0m     \u001b[38;5;28mself\u001b[39m\u001b[38;5;241m.\u001b[39msource \u001b[38;5;241m=\u001b[39m Source(url_or_file, type_)\n\u001b[0;32m---> 45\u001b[0m     \u001b[38;5;28mself\u001b[39m\u001b[38;5;241m.\u001b[39mconfiguration \u001b[38;5;241m=\u001b[39m (\u001b[43mConfiguration\u001b[49m\u001b[43m(\u001b[49m\u001b[43m)\u001b[49m \u001b[38;5;28;01mif\u001b[39;00m configuration \u001b[38;5;129;01mis\u001b[39;00m \u001b[38;5;28;01mNone\u001b[39;00m\n\u001b[1;32m     46\u001b[0m                           \u001b[38;5;28;01melse\u001b[39;00m configuration)\n\u001b[1;32m     47\u001b[0m     \u001b[38;5;28;01mtry\u001b[39;00m:\n\u001b[1;32m     48\u001b[0m         \u001b[38;5;28mself\u001b[39m\u001b[38;5;241m.\u001b[39mwkhtmltopdf \u001b[38;5;241m=\u001b[39m \u001b[38;5;28mself\u001b[39m\u001b[38;5;241m.\u001b[39mconfiguration\u001b[38;5;241m.\u001b[39mwkhtmltopdf\u001b[38;5;241m.\u001b[39mdecode(\u001b[38;5;124m'\u001b[39m\u001b[38;5;124mutf-8\u001b[39m\u001b[38;5;124m'\u001b[39m)\n",
      "File \u001b[0;32m~/Projects/python_virtual_envs/githubmatcher/lib/python3.9/site-packages/pdfkit/configuration.py:38\u001b[0m, in \u001b[0;36mConfiguration.__init__\u001b[0;34m(self, wkhtmltopdf, meta_tag_prefix, environ)\u001b[0m\n\u001b[1;32m     36\u001b[0m         \u001b[38;5;28;01mpass\u001b[39;00m\n\u001b[1;32m     37\u001b[0m \u001b[38;5;28;01mexcept\u001b[39;00m (\u001b[38;5;167;01mIOError\u001b[39;00m, \u001b[38;5;167;01mFileNotFoundError\u001b[39;00m) \u001b[38;5;28;01mas\u001b[39;00m e:\n\u001b[0;32m---> 38\u001b[0m     \u001b[38;5;28;01mraise\u001b[39;00m \u001b[38;5;167;01mIOError\u001b[39;00m(\u001b[38;5;124m'\u001b[39m\u001b[38;5;124mNo wkhtmltopdf executable found: \u001b[39m\u001b[38;5;124m\"\u001b[39m\u001b[38;5;132;01m%s\u001b[39;00m\u001b[38;5;124m\"\u001b[39m\u001b[38;5;130;01m\\n\u001b[39;00m\u001b[38;5;124m'\u001b[39m\n\u001b[1;32m     39\u001b[0m                   \u001b[38;5;124m'\u001b[39m\u001b[38;5;124mIf this file exists please check that this process can \u001b[39m\u001b[38;5;124m'\u001b[39m\n\u001b[1;32m     40\u001b[0m                   \u001b[38;5;124m'\u001b[39m\u001b[38;5;124mread it or you can pass path to it manually in method call, \u001b[39m\u001b[38;5;124m'\u001b[39m\n\u001b[1;32m     41\u001b[0m                   \u001b[38;5;124m'\u001b[39m\u001b[38;5;124mcheck README. Otherwise please install wkhtmltopdf - \u001b[39m\u001b[38;5;124m'\u001b[39m\n\u001b[1;32m     42\u001b[0m                   \u001b[38;5;124m'\u001b[39m\u001b[38;5;124mhttps://github.com/JazzCore/python-pdfkit/wiki/Installing-wkhtmltopdf\u001b[39m\u001b[38;5;124m'\u001b[39m \u001b[38;5;241m%\u001b[39m \u001b[38;5;28mself\u001b[39m\u001b[38;5;241m.\u001b[39mwkhtmltopdf)\n\u001b[1;32m     45\u001b[0m \u001b[38;5;28mself\u001b[39m\u001b[38;5;241m.\u001b[39menviron \u001b[38;5;241m=\u001b[39m environ\n\u001b[1;32m     47\u001b[0m \u001b[38;5;28;01mif\u001b[39;00m \u001b[38;5;129;01mnot\u001b[39;00m \u001b[38;5;28mself\u001b[39m\u001b[38;5;241m.\u001b[39menviron:\n",
      "\u001b[0;31mOSError\u001b[0m: No wkhtmltopdf executable found: \"b''\"\nIf this file exists please check that this process can read it or you can pass path to it manually in method call, check README. Otherwise please install wkhtmltopdf - https://github.com/JazzCore/python-pdfkit/wiki/Installing-wkhtmltopdf"
     ]
    }
   ],
   "source": [
    "import pdfkit\n",
    "\n",
    "# Convert an HTML file to PDF\n",
    "pdfkit.from_file(\"output.html\", \"output.pdf\")\n"
   ]
  },
  {
   "cell_type": "code",
   "execution_count": 23,
   "metadata": {},
   "outputs": [
    {
     "ename": "ImportError",
     "evalue": "attempted relative import with no known parent package",
     "output_type": "error",
     "traceback": [
      "\u001b[0;31m---------------------------------------------------------------------------\u001b[0m",
      "\u001b[0;31mImportError\u001b[0m                               Traceback (most recent call last)",
      "Cell \u001b[0;32mIn[23], line 1\u001b[0m\n\u001b[0;32m----> 1\u001b[0m \u001b[38;5;28;01mfrom\u001b[39;00m \u001b[38;5;21;01m.\u001b[39;00m\u001b[38;5;21;01m.\u001b[39;00m\u001b[38;5;21;01mgeneric_openai_key\u001b[39;00m \u001b[38;5;28;01mimport\u001b[39;00m API_KEY\n",
      "\u001b[0;31mImportError\u001b[0m: attempted relative import with no known parent package"
     ]
    }
   ],
   "source": [
    "from ..generic_openai_key import API_KEY\n"
   ]
  },
  {
   "cell_type": "code",
   "execution_count": 12,
   "metadata": {},
   "outputs": [
    {
     "data": {
      "text/plain": [
       "\"Here’s your updated resume tailored to the job description provided. I've emphasized relevant skills, experiences, and achievements while incorporating keywords and phrases from the job description.\\n\\n```markdown\\n# Steven B Smith  \\n**Email:** sbs@stevenbsmith.net  \\n**Website:** [stevenbsmith.net](http://stevenbsmith.net)  \\n**Location:** Philadelphia region  \\n\\n---\\n\\n## INDUSTRY EXPERIENCE  \\n\\n### **Labcorp, Baltimore, MD**  \\n**Senior Bioinformatics Scientist** *(May 2023 - Present)*  \\n- Provide technical leadership in the design and execution of complex experiments for sequencing-based & FDA-cleared oncology diagnostics software (Python, Linux, Perl, SQL).  \\n- Develop and validate algorithms for high throughput sequencing data analysis, ensuring compliance with regulatory standards.  \\n- Produce high-quality documentation including study protocols, statistical analysis plans, and reports for regulatory submissions.  \\n- Lead a team of engineers and scientists, offering expert advice on bioinformatics methodologies and automated testing systems.  \\n\\n### **Output Biosciences, New York, NY**  \\n**Computational Biology Lead** *(June 2022 - April 2023)*  \\n- Designed and implemented bioinformatics infrastructure for microbiome data analysis, enhancing clinical sample data extraction (AWS, Python, Docker).  \\n- Developed statistical analysis plans and communicated findings to leadership, ensuring clarity and alignment with project goals.  \\n- Acted as an internal consultant, providing technical expertise on bioinformatics methodologies to cross-functional teams.  \\n\\n### **Kaleido Biosciences, Lexington, MA**  \\n**Principal Scientist, Computational Biology** *(August 2021 - April 2022)*  \\n- Led the discovery of novel therapeutics for immunological diseases, utilizing advanced computational and statistical pipelines.  \\n- Developed algorithms for analyzing 16S rRNA, shotgun, and RNA sequencing data, contributing to product validation and scientific publications (R, RShiny).  \\n- Produced comprehensive documentation for experimental designs and data analysis, supporting regulatory submissions and internal reviews.  \\n\\n### **Teva Pharmaceuticals, West Chester, PA**  \\n**Principal Computational Biology Data Scientist** *(July 2020 - August 2021)*  \\n- Developed predictive models for disease indication prioritization using chromatin remodeling data, enhancing clinical biomarker identification (R, RShiny).  \\n- Designed statistical methodologies for translational studies, ensuring robust analysis and documentation for regulatory compliance.  \\n- Collaborated with multidisciplinary teams to provide bioinformatics expertise, facilitating the integration of data analysis into product development.  \\n\\n### **Personal Genome Diagnostics, Baltimore, MD**  \\n**Computational Biology Scientist** *(February 2020 - June 2020)*  \\n- Developed machine learning algorithms for ctDNA NGS-based analysis, detecting genetic cancer signatures in liquid biopsies (Python, R, Linux).  \\n- Ensured compliance with product and customer requirements for RUO assays through rigorous documentation and validation processes.  \\n\\n**Bioinformatics Scientist** *(June 2017 - February 2020)*  \\n- Designed and executed lab and in silico studies to evaluate bioinformatics pipeline performance, producing high-quality reports for stakeholders.  \\n- Managed software development for NGS bioinformatics pipelines, ensuring alignment with best practices and regulatory standards.  \\n\\n### **GlaxoSmithKline Pharmaceuticals, Upper Merion, PA**  \\n**Computational Biology Intern** *(September 2010 - July 2012)*  \\n- Analyzed genomic signatures of host responses to respiratory pathogens, contributing to the understanding of disease mechanisms (R, Bioconductor, NCBI datasets).  \\n- Conducted Connectivity-MAP analysis for drug repurposing, producing documentation for potential therapeutic strategies.  \\n\\n---\\n\\n## COMPUTATIONAL & BIOINFORMATIC EXPERIENCE  \\n- Expert in bioinformatics tools for mapping, variant calling, and CNV analysis using Python and R, with a focus on statistical methods and machine learning techniques (TensorFlow, Random Forest).  \\n- Developed functional algorithms and workflows for complex data analysis, utilizing Docker, Perl, Python, Linux, SQL, and AWS.  \\n- Investigated host-microbiome interactions through RNA- and DNA-seq pipelines, ensuring high-quality data analysis and documentation.  \\n\\n---\\n\\n## LABORATORY EXPERIENCE  \\n- Optimized RNA extraction methods for sequencing small RNA on Illumina HiSeq 4000, contributing to improved experimental outcomes.  \\n- Designed and executed experiments for quantifying microRNA and microbial species using qPCR, supporting product development efforts.  \\n- Conducted cell and bacterial culture experiments, ensuring adherence to best practices in laboratory protocols.  \\n\\n---\\n\\n## EDUCATION  \\n\\n### **University of Maryland, College of Computer, Mathematical, and Natural Sciences**  \\n**Doctor of Philosophy (PhD) in Biological Sciences** *(Graduated May 2017)*  \\n- **Mentor:** Jacques Ravel, Institute for Genome Sciences, Baltimore, MD  \\n- **Thesis:** Identification and Characterization of Regulatory miRNAs and mRNAs in the Longitudinal Human Host Response to Vaginal Microbiota.  \\n\\n### **University of Pennsylvania, School of Engineering & Applied Science**  \\n**Master of Science (M.S.) in Engineering** *(Graduated August 2011)*  \\n- **Thesis:** Identification of Common Biological Pathways and Drug Targets in Respiratory Viral Infection Using Host mRNA Expression Profiles.  \\n\\n### **Drexel University, School of Biomedical Engineering, Science & Health Systems**  \\n**Bachelor of Science (B.S.) in Engineering** *(Graduated Cum Laude, June 2010)*  \\n- **Major:** Biomedical Engineering  \\n\\n---\\n\\n## PEER-REVIEWED PUBLICATIONS  \\n- Edwards VL\\\\*, Smith SB\\\\* (*contributed equally*), et al. (2019). *The cervicovaginal microbiota-host interaction modulates Chlamydia trachomatis infection.* mBio. [DOI:10.1128/mBio.01548-19](https://doi.org/10.1128/mBio.01548-19)  \\n- Delgado-Diaz, D.J., … Smith SB, et al. (2022). *Lactic acid from vaginal microbiota enhances cervicovaginal epithelial barrier integrity by promoting tight junction protein expression.* Microbiome. [DOI:10.1186/s40168-022-01337-5](https://doi.org/10.1186/s40168-022-01337-5)  \\n- Smith SB and Ravel, J. (2017). *The vaginal microbiota, host defense, and reproductive physiology.* J Physiol, 595: 451–463. [DOI:10.1113/JP271694](https://doi.org/10.1113/JP271694)  \\n- Smith SB, Magid-Slav M, Brown JR. (2013). *Host Response to Respiratory Bacterial Pathogens as Identified by Integrated Analysis of Human Gene Expression Data.* PLoS ONE 8(9): e75607.  \\n- Smith SB, Dampier W, Tozeren A, Brown JR, Magid-Slav M. (2012). *Identification of Common Biological Pathways and Drug Targets Across Multiple Respiratory Viruses Based on Human Host Gene Expression Analysis.* PLoS ONE 7(3): e33174.  \\n\\n---\\n\\n```\\n\\nThis version of your resume emphasizes your leadership, technical expertise, and experience with documentation and regulatory compliance, aligning closely with the job description provided. Let me know if you need any further adjustments!\""
      ]
     },
     "execution_count": 12,
     "metadata": {},
     "output_type": "execute_result"
    }
   ],
   "source": [
    "resume"
   ]
  }
 ],
 "metadata": {
  "kernelspec": {
   "display_name": "bin",
   "language": "python",
   "name": "python3"
  },
  "language_info": {
   "codemirror_mode": {
    "name": "ipython",
    "version": 3
   },
   "file_extension": ".py",
   "mimetype": "text/x-python",
   "name": "python",
   "nbconvert_exporter": "python",
   "pygments_lexer": "ipython3",
   "version": "3.9.6"
  }
 },
 "nbformat": 4,
 "nbformat_minor": 2
}
