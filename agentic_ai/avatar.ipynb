{
 "cells": [
  {
   "cell_type": "markdown",
   "id": "68a4b1c1",
   "metadata": {},
   "source": [
    "This notebook an avatar for Steve Smith using ChatGPT. \n",
    "Using some information about Steve Smith, it will generate a response to the user's questions.\n",
    "\n",
    "Sept 2025\n",
    "Steve Smith with help from Udemy course on Agentic AI."
   ]
  },
  {
   "cell_type": "markdown",
   "id": "97652690",
   "metadata": {},
   "source": [
    "# Load dependencies and set variables"
   ]
  },
  {
   "cell_type": "code",
   "execution_count": 2,
   "id": "721c5d4e",
   "metadata": {},
   "outputs": [],
   "source": [
    "from openai import OpenAI\n",
    "from pypdf import PdfReader\n",
    "import os\n",
    "import gradio as gr\n",
    "\n",
    "open_api_key = os.getenv(\"OPENAI_API_KEY\")\n",
    "linkedin = \"\"\n",
    "name = \"Steve Smith\"\n",
    "\n",
    "system_prompt = f\"You are acting as {name}. You are answering questions on {name}'s website, \\\n",
    "particularly questions related to {name}'s career, background, skills and experience. \\\n",
    "Your responsibility is to represent {name} for interactions on the website as faithfully as possible. \\\n",
    "You are given a summary of {name}'s background and LinkedIn profile which you can use to answer questions. \\\n",
    "Be professional and engaging, as if talking to a potential client or future employer who came across the website. \\\n",
    "If you don't know the answer, say so.\"\n",
    "\n",
    "\n"
   ]
  },
  {
   "cell_type": "markdown",
   "id": "e33d6f3c",
   "metadata": {},
   "source": [
    "Establish objects and such"
   ]
  },
  {
   "cell_type": "code",
   "execution_count": 3,
   "id": "0ef099b8",
   "metadata": {},
   "outputs": [],
   "source": [
    "\n",
    "openai = OpenAI(api_key=open_api_key)\n",
    "linkedin_pdf_path=\"data/stevensmith.pdf\"\n",
    "bio_path=\"data/stevensmith_bio.txt\"\n",
    "reader = PdfReader(linkedin_pdf_path) # linkedin export\n"
   ]
  },
  {
   "cell_type": "markdown",
   "id": "18b36eab",
   "metadata": {},
   "source": [
    "Functions\n",
    "* chat (meessage, history) -> interfact with ChatGpT"
   ]
  },
  {
   "cell_type": "code",
   "execution_count": 4,
   "id": "0a8dbef7",
   "metadata": {},
   "outputs": [],
   "source": [
    "# chat\n",
    "def chat(message, history):\n",
    "    messages = [{\"role\": \"system\", \"content\": system_prompt}] + history + [{\"role\": \"user\", \"content\": message}]\n",
    "    response = openai.chat.completions.create(model=\"gpt-4o-mini\", messages=messages)\n",
    "    return response.choices[0].message.content"
   ]
  },
  {
   "cell_type": "markdown",
   "id": "185bf032",
   "metadata": {},
   "source": [
    "Read in stuff about Steve\n",
    "* Linkedin PDF\n",
    "* General bio\n",
    "* Website (TODO)\n",
    "* Resume (TODO)\n"
   ]
  },
  {
   "cell_type": "code",
   "execution_count": 6,
   "id": "702a3b4e",
   "metadata": {},
   "outputs": [
    {
     "name": "stdout",
     "output_type": "stream",
     "text": [
      "Loaded linkedin profile and summary. Sample of each:    \n",
      "Contact\n",
      "sbs@stevenbsmith.net\n",
      "www.linkedin.com/in/\n",
      "stevenbradleysmith (LinkedIn)\n",
      "www.stevenbsmith \n",
      " ---- \n",
      " My name is steve smith. I am a bioinformatics scientist and have lots of experience in computational\n"
     ]
    }
   ],
   "source": [
    "# Read in Linkedin PDF\n",
    "for page in reader.pages:\n",
    "    text = page.extract_text()\n",
    "    if text:\n",
    "        linkedin += text\n",
    "\n",
    "with open(bio_path, \"r\", encoding=\"utf-8\") as f:\n",
    "    summary = f.read()\n",
    "\n",
    "print(f\"Loaded linkedin profile and summary. Sample of each: {linkedin[:100]} \\n ---- \\n {summary[:100]}\")\n"
   ]
  },
  {
   "cell_type": "markdown",
   "id": "872d805a",
   "metadata": {},
   "source": [
    "Generate prompt to simulate an avatar for Steve"
   ]
  },
  {
   "cell_type": "code",
   "execution_count": 8,
   "id": "a5df5e9c",
   "metadata": {},
   "outputs": [
    {
     "name": "stdout",
     "output_type": "stream",
     "text": [
      "Here is the final system prompt: You are acting as Steve Smith. You are answering questions on Steve Smith's website, particularly questions related to Steve Smith's career, background, skills and experience. Your responsibility is to represent Steve Smith for interactions on the website as faithfully as possible. You are given a summary of Steve Smith's background and LinkedIn profile which you can use to answer questions. Be professional and engaging, as if talking to a potential client or future employer who came across the \n"
     ]
    }
   ],
   "source": [
    "system_prompt += f\"\\n\\n## Summary:\\n{summary}\\n\\n## LinkedIn Profile:\\n{linkedin}\\n\\n\"\n",
    "system_prompt += f\"With this context, please chat with the user, always staying in character as {name}.\"\n",
    "\n",
    "print(f\"Here is the final system prompt: {system_prompt[:500]}\")"
   ]
  },
  {
   "cell_type": "markdown",
   "id": "1cdc2448",
   "metadata": {},
   "source": [
    "Initate the chat bot!"
   ]
  },
  {
   "cell_type": "code",
   "execution_count": 9,
   "id": "1fa15db2",
   "metadata": {},
   "outputs": [
    {
     "name": "stdout",
     "output_type": "stream",
     "text": [
      "* Running on local URL:  http://127.0.0.1:7861\n",
      "* To create a public link, set `share=True` in `launch()`.\n"
     ]
    },
    {
     "data": {
      "text/html": [
       "<div><iframe src=\"http://127.0.0.1:7861/\" width=\"100%\" height=\"500\" allow=\"autoplay; camera; microphone; clipboard-read; clipboard-write;\" frameborder=\"0\" allowfullscreen></iframe></div>"
      ],
      "text/plain": [
       "<IPython.core.display.HTML object>"
      ]
     },
     "metadata": {},
     "output_type": "display_data"
    },
    {
     "data": {
      "text/plain": []
     },
     "execution_count": 9,
     "metadata": {},
     "output_type": "execute_result"
    }
   ],
   "source": [
    "gr.ChatInterface(chat, type=\"messages\").launch()"
   ]
  }
 ],
 "metadata": {
  "kernelspec": {
   "display_name": "RAG_course",
   "language": "python",
   "name": "python3"
  },
  "language_info": {
   "codemirror_mode": {
    "name": "ipython",
    "version": 3
   },
   "file_extension": ".py",
   "mimetype": "text/x-python",
   "name": "python",
   "nbconvert_exporter": "python",
   "pygments_lexer": "ipython3",
   "version": "3.12.7"
  }
 },
 "nbformat": 4,
 "nbformat_minor": 5
}
